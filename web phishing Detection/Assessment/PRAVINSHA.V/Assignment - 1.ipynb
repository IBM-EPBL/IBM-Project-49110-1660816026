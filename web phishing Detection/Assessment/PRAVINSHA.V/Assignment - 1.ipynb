{
 "cells": [
  {
   "cell_type": "markdown",
   "id": "e6bab250",
   "metadata": {},
   "source": [
    "# Basic Python"
   ]
  },
  {
   "cell_type": "markdown",
   "id": "9e9ea49b",
   "metadata": {},
   "source": [
    "## 1.Split This String"
   ]
  },
  {
   "cell_type": "code",
   "execution_count": null,
   "id": "5f57dafd",
   "metadata": {},
   "outputs": [],
   "source": [
    "s=\"Hi there sam!"
   ]
  },
  {
   "cell_type": "code",
   "execution_count": 3,
   "id": "c04a8f50",
   "metadata": {},
   "outputs": [
    {
     "name": "stdout",
     "output_type": "stream",
     "text": [
      "['Hi', 'there', 'sam!']\n"
     ]
    }
   ],
   "source": [
    "s=\"Hi there sam!\"\n",
    "x=s.split()\n",
    "print(x)"
   ]
  },
  {
   "cell_type": "markdown",
   "id": "ad34eb34",
   "metadata": {},
   "source": [
    "## 2. Use.format() to print the following string"
   ]
  },
  {
   "cell_type": "markdown",
   "id": "10d3482b",
   "metadata": {},
   "source": [
    "### Output should be: The diameter of earth is 12742 Kilometers"
   ]
  },
  {
   "cell_type": "code",
   "execution_count": null,
   "id": "14e67888",
   "metadata": {},
   "outputs": [],
   "source": [
    "planet = \"Earth\"\n",
    "diameter = 12742"
   ]
  },
  {
   "cell_type": "code",
   "execution_count": 5,
   "id": "87a6045b",
   "metadata": {},
   "outputs": [
    {
     "name": "stdout",
     "output_type": "stream",
     "text": [
      "The diameter of Earth is 12742 kilometers\n"
     ]
    }
   ],
   "source": [
    "planet = \"Earth\"\n",
    "diameter = \"12742\"\n",
    "print(\"The diameter of {} is {} kilometers\" .format(planet,diameter))"
   ]
  },
  {
   "cell_type": "markdown",
   "id": "5d120f6c",
   "metadata": {},
   "source": [
    "## 3.In This Nest Dictionary Grab The Word \"Hello\""
   ]
  },
  {
   "cell_type": "code",
   "execution_count": null,
   "id": "2a3c1448",
   "metadata": {},
   "outputs": [],
   "source": [
    "d = {'k1' : [1,2,3,{'tricky':['oh','man','inception',{'target':[1,2,3,'hello']}]}]}"
   ]
  },
  {
   "cell_type": "code",
   "execution_count": 1,
   "id": "990838af",
   "metadata": {},
   "outputs": [
    {
     "data": {
      "text/plain": [
       "'hello'"
      ]
     },
     "execution_count": 1,
     "metadata": {},
     "output_type": "execute_result"
    }
   ],
   "source": [
    "d = {'k1':[1,2,3,{'tricky':['oh','man','inception',{'target':[1,2,3,'hello']}]}]}\n",
    "d['k1'][3]['tricky'][3]['target'][3]\n"
   ]
  },
  {
   "cell_type": "markdown",
   "id": "d5d4a9a5",
   "metadata": {},
   "source": [
    "## Numpy"
   ]
  },
  {
   "cell_type": "code",
   "execution_count": null,
   "id": "4e782970",
   "metadata": {},
   "outputs": [],
   "source": [
    "import numpy as np"
   ]
  },
  {
   "cell_type": "markdown",
   "id": "4e5d3800",
   "metadata": {},
   "source": [
    "## 4.1 Creat an array of 10 zeros?"
   ]
  },
  {
   "cell_type": "code",
   "execution_count": 4,
   "id": "bcb51b45",
   "metadata": {},
   "outputs": [
    {
     "name": "stdout",
     "output_type": "stream",
     "text": [
      "An array of two zeros:\n",
      "[0. 0. 0. 0. 0. 0. 0. 0. 0. 0.]\n"
     ]
    }
   ],
   "source": [
    "import numpy as np\n",
    "array=np.zeros(10)\n",
    "print(\"An array of two zeros:\")\n",
    "print(array)"
   ]
  },
  {
   "cell_type": "markdown",
   "id": "9e44abed",
   "metadata": {},
   "source": [
    "## 4.2 Create an array of 10 fives?"
   ]
  },
  {
   "cell_type": "code",
   "execution_count": 5,
   "id": "e0918e62",
   "metadata": {},
   "outputs": [
    {
     "name": "stdout",
     "output_type": "stream",
     "text": [
      "An array of ten fives:\n",
      "[5. 5. 5. 5. 5. 5. 5. 5. 5. 5.]\n"
     ]
    }
   ],
   "source": [
    "import numpy as np\n",
    "array=np.ones(10)*5\n",
    "print(\"An array of ten fives:\")\n",
    "print(array)"
   ]
  },
  {
   "cell_type": "markdown",
   "id": "542d6ee8",
   "metadata": {},
   "source": [
    "## 5.Create an array of all the even integer from 20 to 35"
   ]
  },
  {
   "cell_type": "code",
   "execution_count": 6,
   "id": "55e8f0bc",
   "metadata": {},
   "outputs": [
    {
     "data": {
      "text/plain": [
       "array([20, 22, 24, 26, 28, 30, 32, 34])"
      ]
     },
     "execution_count": 6,
     "metadata": {},
     "output_type": "execute_result"
    }
   ],
   "source": [
    "np.arange(20,35,2)"
   ]
  },
  {
   "cell_type": "markdown",
   "id": "3e4e317e",
   "metadata": {},
   "source": [
    "## # 6.Create a 3x3 matrix with values ranging from 0 to 8\n"
   ]
  },
  {
   "cell_type": "code",
   "execution_count": 7,
   "id": "cf853fcb",
   "metadata": {},
   "outputs": [
    {
     "data": {
      "text/plain": [
       "array([[0, 1, 2],\n",
       "       [3, 4, 5],\n",
       "       [6, 7, 8]])"
      ]
     },
     "execution_count": 7,
     "metadata": {},
     "output_type": "execute_result"
    }
   ],
   "source": [
    "np.arange(0,9).reshape(3,3)"
   ]
  },
  {
   "cell_type": "markdown",
   "id": "23d73c0c",
   "metadata": {},
   "source": [
    "## 7.Concatenate a and b\n"
   ]
  },
  {
   "cell_type": "markdown",
   "id": "7ab0c320",
   "metadata": {},
   "source": [
    "## a = np.array([1,2,3]),b = np.array([4,5,6])"
   ]
  },
  {
   "cell_type": "code",
   "execution_count": 9,
   "id": "1936ef9e",
   "metadata": {},
   "outputs": [
    {
     "data": {
      "text/plain": [
       "array([1, 2, 3, 4, 5, 6])"
      ]
     },
     "execution_count": 9,
     "metadata": {},
     "output_type": "execute_result"
    }
   ],
   "source": [
    "a = np.array([1,2,3])\n",
    "b = np.array([4,5,6])\n",
    "np.concatenate((a,b),axis=0)"
   ]
  },
  {
   "cell_type": "markdown",
   "id": "5c7e936b",
   "metadata": {},
   "source": [
    "## Pandas"
   ]
  },
  {
   "cell_type": "markdown",
   "id": "e345e448",
   "metadata": {},
   "source": [
    "## 8.Create a dataframe with 3 rows and 2 columns"
   ]
  },
  {
   "cell_type": "code",
   "execution_count": 11,
   "id": "3977527e",
   "metadata": {},
   "outputs": [
    {
     "data": {
      "text/html": [
       "<div>\n",
       "<style scoped>\n",
       "    .dataframe tbody tr th:only-of-type {\n",
       "        vertical-align: middle;\n",
       "    }\n",
       "\n",
       "    .dataframe tbody tr th {\n",
       "        vertical-align: top;\n",
       "    }\n",
       "\n",
       "    .dataframe thead th {\n",
       "        text-align: right;\n",
       "    }\n",
       "</style>\n",
       "<table border=\"1\" class=\"dataframe\">\n",
       "  <thead>\n",
       "    <tr style=\"text-align: right;\">\n",
       "      <th></th>\n",
       "      <th>project_num</th>\n",
       "      <th>status</th>\n",
       "    </tr>\n",
       "  </thead>\n",
       "  <tbody>\n",
       "    <tr>\n",
       "      <th>0</th>\n",
       "      <td>No.1</td>\n",
       "      <td>Doing</td>\n",
       "    </tr>\n",
       "    <tr>\n",
       "      <th>1</th>\n",
       "      <td>No.2</td>\n",
       "      <td>Done</td>\n",
       "    </tr>\n",
       "    <tr>\n",
       "      <th>2</th>\n",
       "      <td>No.3</td>\n",
       "      <td>Ready</td>\n",
       "    </tr>\n",
       "  </tbody>\n",
       "</table>\n",
       "</div>"
      ],
      "text/plain": [
       "  project_num status\n",
       "0        No.1  Doing\n",
       "1        No.2   Done\n",
       "2        No.3  Ready"
      ]
     },
     "execution_count": 11,
     "metadata": {},
     "output_type": "execute_result"
    }
   ],
   "source": [
    "import pandas as pd\n",
    "temp = {\"project_num\":[\"No.1\",\"No.2\",\"No.3\",],\"status\":[\"Doing\",\"Done\",\"Ready\"]}\n",
    "pd.DataFrame(temp)"
   ]
  },
  {
   "cell_type": "markdown",
   "id": "d2b7a6a0",
   "metadata": {},
   "source": [
    "## 9.Generate the series of datas from 1st jan,2023 to 10th feb 2023"
   ]
  },
  {
   "cell_type": "code",
   "execution_count": 12,
   "id": "0aedcb5e",
   "metadata": {},
   "outputs": [
    {
     "data": {
      "text/plain": [
       "DatetimeIndex(['2023-01-01', '2023-01-02', '2023-01-03', '2023-01-04',\n",
       "               '2023-01-05', '2023-01-06', '2023-01-07', '2023-01-08',\n",
       "               '2023-01-09', '2023-01-10', '2023-01-11', '2023-01-12',\n",
       "               '2023-01-13', '2023-01-14', '2023-01-15', '2023-01-16',\n",
       "               '2023-01-17', '2023-01-18', '2023-01-19', '2023-01-20',\n",
       "               '2023-01-21', '2023-01-22', '2023-01-23', '2023-01-24',\n",
       "               '2023-01-25', '2023-01-26', '2023-01-27', '2023-01-28',\n",
       "               '2023-01-29', '2023-01-30', '2023-01-31', '2023-02-01',\n",
       "               '2023-02-02', '2023-02-03'],\n",
       "              dtype='datetime64[ns]', freq='D')"
      ]
     },
     "execution_count": 12,
     "metadata": {},
     "output_type": "execute_result"
    }
   ],
   "source": [
    "pd.date_range(start=\"2023-01-01\",end=\"2023-02-03\")"
   ]
  },
  {
   "cell_type": "markdown",
   "id": "0e877f93",
   "metadata": {},
   "source": [
    "## 10.Create 2D list to DataFrame"
   ]
  },
  {
   "cell_type": "markdown",
   "id": "1af6c6ac",
   "metadata": {},
   "source": [
    "## lists = [[1,'aaa',22],[2,'bbb',25],[3.'ccc',24]]"
   ]
  },
  {
   "cell_type": "code",
   "execution_count": 13,
   "id": "21ff1f9c",
   "metadata": {},
   "outputs": [
    {
     "name": "stdout",
     "output_type": "stream",
     "text": [
      "   0    1   2\n",
      "0  1  aaa  22\n",
      "1  2  bbb  25\n",
      "2  3  ccc  24\n"
     ]
    }
   ],
   "source": [
    "lists = [[1,'aaa',22], [2,'bbb',25], [3,'ccc',24]]\n",
    "ds=pd.DataFrame(lists)\n",
    "print(ds)"
   ]
  },
  {
   "cell_type": "code",
   "execution_count": null,
   "id": "1412aceb",
   "metadata": {},
   "outputs": [],
   "source": []
  }
 ],
 "metadata": {
  "kernelspec": {
   "display_name": "Python 3 (ipykernel)",
   "language": "python",
   "name": "python3"
  },
  "language_info": {
   "codemirror_mode": {
    "name": "ipython",
    "version": 3
   },
   "file_extension": ".py",
   "mimetype": "text/x-python",
   "name": "python",
   "nbconvert_exporter": "python",
   "pygments_lexer": "ipython3",
   "version": "3.9.12"
  }
 },
 "nbformat": 4,
 "nbformat_minor": 5
}
