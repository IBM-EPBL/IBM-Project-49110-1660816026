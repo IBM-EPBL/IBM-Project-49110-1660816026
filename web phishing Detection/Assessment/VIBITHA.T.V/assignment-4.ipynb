{
 "cells": [
  {
   "cell_type": "code",
   "execution_count": 1,
   "id": "7f04129c",
   "metadata": {},
   "outputs": [],
   "source": [
    "import numpy as np\n",
    "import pandas as pd\n",
    "import matplotlib.pyplot as plt\n",
    "import seaborn as sns\n",
    "\n",
    "import warnings\n",
    "warnings.filterwarnings('ignore')"
   ]
  },
  {
   "cell_type": "code",
   "execution_count": 2,
   "id": "f1a456c7",
   "metadata": {},
   "outputs": [],
   "source": [
    "df = pd.read_csv('Mall_Customers.csv')"
   ]
  },
  {
   "cell_type": "code",
   "execution_count": 3,
   "id": "40e86b5b",
   "metadata": {},
   "outputs": [
    {
     "data": {
      "text/plain": [
       "(200, 5)"
      ]
     },
     "execution_count": 3,
     "metadata": {},
     "output_type": "execute_result"
    }
   ],
   "source": [
    "df.shape"
   ]
  },
  {
   "cell_type": "code",
   "execution_count": 4,
   "id": "dd1a0086",
   "metadata": {},
   "outputs": [
    {
     "data": {
      "text/html": [
       "<div>\n",
       "<style scoped>\n",
       "    .dataframe tbody tr th:only-of-type {\n",
       "        vertical-align: middle;\n",
       "    }\n",
       "\n",
       "    .dataframe tbody tr th {\n",
       "        vertical-align: top;\n",
       "    }\n",
       "\n",
       "    .dataframe thead th {\n",
       "        text-align: right;\n",
       "    }\n",
       "</style>\n",
       "<table border=\"1\" class=\"dataframe\">\n",
       "  <thead>\n",
       "    <tr style=\"text-align: right;\">\n",
       "      <th></th>\n",
       "      <th>CustomerID</th>\n",
       "      <th>Gender</th>\n",
       "      <th>Age</th>\n",
       "      <th>Annual Income (k$)</th>\n",
       "      <th>Spending Score (1-100)</th>\n",
       "    </tr>\n",
       "  </thead>\n",
       "  <tbody>\n",
       "    <tr>\n",
       "      <th>0</th>\n",
       "      <td>1</td>\n",
       "      <td>Male</td>\n",
       "      <td>19</td>\n",
       "      <td>15</td>\n",
       "      <td>39</td>\n",
       "    </tr>\n",
       "    <tr>\n",
       "      <th>1</th>\n",
       "      <td>2</td>\n",
       "      <td>Male</td>\n",
       "      <td>21</td>\n",
       "      <td>15</td>\n",
       "      <td>81</td>\n",
       "    </tr>\n",
       "    <tr>\n",
       "      <th>2</th>\n",
       "      <td>3</td>\n",
       "      <td>Female</td>\n",
       "      <td>20</td>\n",
       "      <td>16</td>\n",
       "      <td>6</td>\n",
       "    </tr>\n",
       "    <tr>\n",
       "      <th>3</th>\n",
       "      <td>4</td>\n",
       "      <td>Female</td>\n",
       "      <td>23</td>\n",
       "      <td>16</td>\n",
       "      <td>77</td>\n",
       "    </tr>\n",
       "    <tr>\n",
       "      <th>4</th>\n",
       "      <td>5</td>\n",
       "      <td>Female</td>\n",
       "      <td>31</td>\n",
       "      <td>17</td>\n",
       "      <td>40</td>\n",
       "    </tr>\n",
       "  </tbody>\n",
       "</table>\n",
       "</div>"
      ],
      "text/plain": [
       "   CustomerID  Gender  Age  Annual Income (k$)  Spending Score (1-100)\n",
       "0           1    Male   19                  15                      39\n",
       "1           2    Male   21                  15                      81\n",
       "2           3  Female   20                  16                       6\n",
       "3           4  Female   23                  16                      77\n",
       "4           5  Female   31                  17                      40"
      ]
     },
     "execution_count": 4,
     "metadata": {},
     "output_type": "execute_result"
    }
   ],
   "source": [
    "df.head()"
   ]
  },
  {
   "cell_type": "markdown",
   "id": "eb7953ce",
   "metadata": {},
   "source": [
    "### univariate analysis"
   ]
  },
  {
   "cell_type": "code",
   "execution_count": 5,
   "id": "b70e8dd5",
   "metadata": {},
   "outputs": [
    {
     "name": "stdout",
     "output_type": "stream",
     "text": [
      "This dataset has 200 observations with 5 features.\n"
     ]
    }
   ],
   "source": [
    "print('This dataset has {} observations with {} features.'.format(df.shape[0], df.shape[1]))"
   ]
  },
  {
   "cell_type": "code",
   "execution_count": 6,
   "id": "1a554bd3",
   "metadata": {},
   "outputs": [
    {
     "name": "stdout",
     "output_type": "stream",
     "text": [
      "<class 'pandas.core.frame.DataFrame'>\n",
      "RangeIndex: 200 entries, 0 to 199\n",
      "Data columns (total 5 columns):\n",
      " #   Column                  Non-Null Count  Dtype \n",
      "---  ------                  --------------  ----- \n",
      " 0   CustomerID              200 non-null    int64 \n",
      " 1   Gender                  200 non-null    object\n",
      " 2   Age                     200 non-null    int64 \n",
      " 3   Annual Income (k$)      200 non-null    int64 \n",
      " 4   Spending Score (1-100)  200 non-null    int64 \n",
      "dtypes: int64(4), object(1)\n",
      "memory usage: 7.9+ KB\n"
     ]
    }
   ],
   "source": [
    "df.info()"
   ]
  },
  {
   "cell_type": "code",
   "execution_count": 7,
   "id": "5e7ed799",
   "metadata": {},
   "outputs": [
    {
     "data": {
      "text/html": [
       "<div>\n",
       "<style scoped>\n",
       "    .dataframe tbody tr th:only-of-type {\n",
       "        vertical-align: middle;\n",
       "    }\n",
       "\n",
       "    .dataframe tbody tr th {\n",
       "        vertical-align: top;\n",
       "    }\n",
       "\n",
       "    .dataframe thead th {\n",
       "        text-align: right;\n",
       "    }\n",
       "</style>\n",
       "<table border=\"1\" class=\"dataframe\">\n",
       "  <thead>\n",
       "    <tr style=\"text-align: right;\">\n",
       "      <th></th>\n",
       "      <th>count</th>\n",
       "      <th>mean</th>\n",
       "      <th>std</th>\n",
       "      <th>min</th>\n",
       "      <th>25%</th>\n",
       "      <th>50%</th>\n",
       "      <th>75%</th>\n",
       "      <th>max</th>\n",
       "    </tr>\n",
       "  </thead>\n",
       "  <tbody>\n",
       "    <tr>\n",
       "      <th>CustomerID</th>\n",
       "      <td>200.0</td>\n",
       "      <td>100.50</td>\n",
       "      <td>57.879185</td>\n",
       "      <td>1.0</td>\n",
       "      <td>50.75</td>\n",
       "      <td>100.5</td>\n",
       "      <td>150.25</td>\n",
       "      <td>200.0</td>\n",
       "    </tr>\n",
       "    <tr>\n",
       "      <th>Age</th>\n",
       "      <td>200.0</td>\n",
       "      <td>38.85</td>\n",
       "      <td>13.969007</td>\n",
       "      <td>18.0</td>\n",
       "      <td>28.75</td>\n",
       "      <td>36.0</td>\n",
       "      <td>49.00</td>\n",
       "      <td>70.0</td>\n",
       "    </tr>\n",
       "    <tr>\n",
       "      <th>Annual Income (k$)</th>\n",
       "      <td>200.0</td>\n",
       "      <td>60.56</td>\n",
       "      <td>26.264721</td>\n",
       "      <td>15.0</td>\n",
       "      <td>41.50</td>\n",
       "      <td>61.5</td>\n",
       "      <td>78.00</td>\n",
       "      <td>137.0</td>\n",
       "    </tr>\n",
       "    <tr>\n",
       "      <th>Spending Score (1-100)</th>\n",
       "      <td>200.0</td>\n",
       "      <td>50.20</td>\n",
       "      <td>25.823522</td>\n",
       "      <td>1.0</td>\n",
       "      <td>34.75</td>\n",
       "      <td>50.0</td>\n",
       "      <td>73.00</td>\n",
       "      <td>99.0</td>\n",
       "    </tr>\n",
       "  </tbody>\n",
       "</table>\n",
       "</div>"
      ],
      "text/plain": [
       "                        count    mean        std   min    25%    50%     75%  \\\n",
       "CustomerID              200.0  100.50  57.879185   1.0  50.75  100.5  150.25   \n",
       "Age                     200.0   38.85  13.969007  18.0  28.75   36.0   49.00   \n",
       "Annual Income (k$)      200.0   60.56  26.264721  15.0  41.50   61.5   78.00   \n",
       "Spending Score (1-100)  200.0   50.20  25.823522   1.0  34.75   50.0   73.00   \n",
       "\n",
       "                          max  \n",
       "CustomerID              200.0  \n",
       "Age                      70.0  \n",
       "Annual Income (k$)      137.0  \n",
       "Spending Score (1-100)   99.0  "
      ]
     },
     "execution_count": 7,
     "metadata": {},
     "output_type": "execute_result"
    }
   ],
   "source": [
    "df.describe().T"
   ]
  },
  {
   "cell_type": "code",
   "execution_count": 8,
   "id": "cb9af697",
   "metadata": {},
   "outputs": [
    {
     "data": {
      "text/plain": [
       "Female    112\n",
       "Male       88\n",
       "Name: Gender, dtype: int64"
      ]
     },
     "execution_count": 8,
     "metadata": {},
     "output_type": "execute_result"
    }
   ],
   "source": [
    "# Finding the number of males and females in the data\n",
    "df.Gender.value_counts()"
   ]
  },
  {
   "cell_type": "code",
   "execution_count": 9,
   "id": "164cb262",
   "metadata": {},
   "outputs": [
    {
     "data": {
      "image/png": "[encoded data removed]",
      "text/plain": [
       "<Figure size 432x288 with 1 Axes>"
      ]
     },
     "metadata": {
      "needs_background": "light"
     },
     "output_type": "display_data"
    }
   ],
   "source": [
    "# Visualising the number of males and females in the data\n",
    "sns.countplot(x=\"Gender\",data=df,palette=\"tab10\")\n",
    "plt.show()"
   ]
  },
  {
   "cell_type": "code",
   "execution_count": 10,
   "id": "b8d4dfd4",
   "metadata": {},
   "outputs": [
    {
     "data": {
      "image/png": "[encoded data removed]",
      "text/plain": [
       "<Figure size 1800x576 with 1 Axes>"
      ]
     },
     "metadata": {
      "needs_background": "light"
     },
     "output_type": "display_data"
    }
   ],
   "source": [
    "# Visualising the age distribution of customers\n",
    "plt.figure(figsize=(25,8))\n",
    "sns.countplot(x=\"Age\",data=df)\n",
    "plt.show()\n"
   ]
  },
  {
   "cell_type": "code",
   "execution_count": 11,
   "id": "16eef2d3",
   "metadata": {},
   "outputs": [
    {
     "name": "stdout",
     "output_type": "stream",
     "text": [
      "18\n",
      "70\n"
     ]
    }
   ],
   "source": [
    "print(min(df.Age))\n",
    "print(max(df.Age))"
   ]
  },
  {
   "cell_type": "code",
   "execution_count": 12,
   "id": "d3880954",
   "metadata": {},
   "outputs": [
    {
     "data": {
      "text/plain": [
       "<AxesSubplot:xlabel='Annual Income (k$)', ylabel='count'>"
      ]
     },
     "execution_count": 12,
     "metadata": {},
     "output_type": "execute_result"
    },
    {
     "data": {
      "image/png": "[encoded data removed]",
      "text/plain": [
       "<Figure size 1800x576 with 1 Axes>"
      ]
     },
     "metadata": {
      "needs_background": "light"
     },
     "output_type": "display_data"
    }
   ],
   "source": [
    "# Visualising the Income distribution of customers\n",
    "plt.figure(figsize=(25,8))\n",
    "\n",
    "sns.countplot(x=\"Annual Income (k$)\",data=df)"
   ]
  },
  {
   "cell_type": "markdown",
   "id": "d17046fd",
   "metadata": {},
   "source": [
    "### bi-variate analysis"
   ]
  },
  {
   "cell_type": "code",
   "execution_count": 13,
   "id": "1b1f185f",
   "metadata": {},
   "outputs": [
    {
     "data": {
      "text/plain": [
       "<AxesSubplot:xlabel='Age', ylabel='Annual Income (k$)'>"
      ]
     },
     "execution_count": 13,
     "metadata": {},
     "output_type": "execute_result"
    },
    {
     "data": {
      "image/png": "[encoded data removed]",
      "text/plain": [
       "<Figure size 432x288 with 1 Axes>"
      ]
     },
     "metadata": {
      "needs_background": "light"
     },
     "output_type": "display_data"
    }
   ],
   "source": [
    "sns.lineplot(x = df[\"Age\"], y=df[\"Annual Income (k$)\"], palette =\"bright\")"
   ]
  },
  {
   "cell_type": "code",
   "execution_count": 14,
   "id": "559fa959",
   "metadata": {},
   "outputs": [
    {
     "data": {
      "text/plain": [
       "<seaborn.axisgrid.PairGrid at 0x1b4da91ca00>"
      ]
     },
     "execution_count": 14,
     "metadata": {},
     "output_type": "execute_result"
    },
    {
     "data": {
      "image/png": "[encoded data removed]",
      "text/plain": [
       "<Figure size 720x720 with 20 Axes>"
      ]
     },
     "metadata": {
      "needs_background": "light"
     },
     "output_type": "display_data"
    }
   ],
   "source": [
    "sns.pairplot(df)"
   ]
  },
  {
   "cell_type": "markdown",
   "id": "3962db71",
   "metadata": {},
   "source": [
    "## Perform descriptive statistics on the dataset"
   ]
  },
  {
   "cell_type": "code",
   "execution_count": 15,
   "id": "a9e63487",
   "metadata": {},
   "outputs": [
    {
     "data": {
      "text/plain": [
       "<AxesSubplot:>"
      ]
     },
     "execution_count": 15,
     "metadata": {},
     "output_type": "execute_result"
    },
    {
     "data": {
      "image/png": "[encoded data removed]",
      "text/plain": [
       "<Figure size 432x288 with 2 Axes>"
      ]
     },
     "metadata": {
      "needs_background": "light"
     },
     "output_type": "display_data"
    }
   ],
   "source": [
    "sns.heatmap(df.corr(),annot=True)"
   ]
  },
  {
   "cell_type": "code",
   "execution_count": 16,
   "id": "99f00472",
   "metadata": {},
   "outputs": [
    {
     "data": {
      "text/html": [
       "<div>\n",
       "<style scoped>\n",
       "    .dataframe tbody tr th:only-of-type {\n",
       "        vertical-align: middle;\n",
       "    }\n",
       "\n",
       "    .dataframe tbody tr th {\n",
       "        vertical-align: top;\n",
       "    }\n",
       "\n",
       "    .dataframe thead th {\n",
       "        text-align: right;\n",
       "    }\n",
       "</style>\n",
       "<table border=\"1\" class=\"dataframe\">\n",
       "  <thead>\n",
       "    <tr style=\"text-align: right;\">\n",
       "      <th></th>\n",
       "      <th>CustomerID</th>\n",
       "      <th>Age</th>\n",
       "      <th>Annual Income (k$)</th>\n",
       "      <th>Spending Score (1-100)</th>\n",
       "    </tr>\n",
       "  </thead>\n",
       "  <tbody>\n",
       "    <tr>\n",
       "      <th>count</th>\n",
       "      <td>200.000000</td>\n",
       "      <td>200.000000</td>\n",
       "      <td>200.000000</td>\n",
       "      <td>200.000000</td>\n",
       "    </tr>\n",
       "    <tr>\n",
       "      <th>mean</th>\n",
       "      <td>100.500000</td>\n",
       "      <td>38.850000</td>\n",
       "      <td>60.560000</td>\n",
       "      <td>50.200000</td>\n",
       "    </tr>\n",
       "    <tr>\n",
       "      <th>std</th>\n",
       "      <td>57.879185</td>\n",
       "      <td>13.969007</td>\n",
       "      <td>26.264721</td>\n",
       "      <td>25.823522</td>\n",
       "    </tr>\n",
       "    <tr>\n",
       "      <th>min</th>\n",
       "      <td>1.000000</td>\n",
       "      <td>18.000000</td>\n",
       "      <td>15.000000</td>\n",
       "      <td>1.000000</td>\n",
       "    </tr>\n",
       "    <tr>\n",
       "      <th>25%</th>\n",
       "      <td>50.750000</td>\n",
       "      <td>28.750000</td>\n",
       "      <td>41.500000</td>\n",
       "      <td>34.750000</td>\n",
       "    </tr>\n",
       "    <tr>\n",
       "      <th>50%</th>\n",
       "      <td>100.500000</td>\n",
       "      <td>36.000000</td>\n",
       "      <td>61.500000</td>\n",
       "      <td>50.000000</td>\n",
       "    </tr>\n",
       "    <tr>\n",
       "      <th>75%</th>\n",
       "      <td>150.250000</td>\n",
       "      <td>49.000000</td>\n",
       "      <td>78.000000</td>\n",
       "      <td>73.000000</td>\n",
       "    </tr>\n",
       "    <tr>\n",
       "      <th>max</th>\n",
       "      <td>200.000000</td>\n",
       "      <td>70.000000</td>\n",
       "      <td>137.000000</td>\n",
       "      <td>99.000000</td>\n",
       "    </tr>\n",
       "  </tbody>\n",
       "</table>\n",
       "</div>"
      ],
      "text/plain": [
       "       CustomerID         Age  Annual Income (k$)  Spending Score (1-100)\n",
       "count  200.000000  200.000000          200.000000              200.000000\n",
       "mean   100.500000   38.850000           60.560000               50.200000\n",
       "std     57.879185   13.969007           26.264721               25.823522\n",
       "min      1.000000   18.000000           15.000000                1.000000\n",
       "25%     50.750000   28.750000           41.500000               34.750000\n",
       "50%    100.500000   36.000000           61.500000               50.000000\n",
       "75%    150.250000   49.000000           78.000000               73.000000\n",
       "max    200.000000   70.000000          137.000000               99.000000"
      ]
     },
     "execution_count": 16,
     "metadata": {},
     "output_type": "execute_result"
    }
   ],
   "source": [
    "df.describe()"
   ]
  },
  {
   "cell_type": "markdown",
   "id": "6271157b",
   "metadata": {},
   "source": [
    "## Check for Missing values and deal with them"
   ]
  },
  {
   "cell_type": "code",
   "execution_count": 17,
   "id": "e70daa09",
   "metadata": {},
   "outputs": [
    {
     "data": {
      "text/html": [
       "<div>\n",
       "<style scoped>\n",
       "    .dataframe tbody tr th:only-of-type {\n",
       "        vertical-align: middle;\n",
       "    }\n",
       "\n",
       "    .dataframe tbody tr th {\n",
       "        vertical-align: top;\n",
       "    }\n",
       "\n",
       "    .dataframe thead th {\n",
       "        text-align: right;\n",
       "    }\n",
       "</style>\n",
       "<table border=\"1\" class=\"dataframe\">\n",
       "  <thead>\n",
       "    <tr style=\"text-align: right;\">\n",
       "      <th></th>\n",
       "      <th>CustomerID</th>\n",
       "      <th>Gender</th>\n",
       "      <th>Age</th>\n",
       "      <th>Annual Income (k$)</th>\n",
       "      <th>Spending Score (1-100)</th>\n",
       "    </tr>\n",
       "  </thead>\n",
       "  <tbody>\n",
       "    <tr>\n",
       "      <th>0</th>\n",
       "      <td>False</td>\n",
       "      <td>False</td>\n",
       "      <td>False</td>\n",
       "      <td>False</td>\n",
       "      <td>False</td>\n",
       "    </tr>\n",
       "    <tr>\n",
       "      <th>1</th>\n",
       "      <td>False</td>\n",
       "      <td>False</td>\n",
       "      <td>False</td>\n",
       "      <td>False</td>\n",
       "      <td>False</td>\n",
       "    </tr>\n",
       "    <tr>\n",
       "      <th>2</th>\n",
       "      <td>False</td>\n",
       "      <td>False</td>\n",
       "      <td>False</td>\n",
       "      <td>False</td>\n",
       "      <td>False</td>\n",
       "    </tr>\n",
       "    <tr>\n",
       "      <th>3</th>\n",
       "      <td>False</td>\n",
       "      <td>False</td>\n",
       "      <td>False</td>\n",
       "      <td>False</td>\n",
       "      <td>False</td>\n",
       "    </tr>\n",
       "    <tr>\n",
       "      <th>4</th>\n",
       "      <td>False</td>\n",
       "      <td>False</td>\n",
       "      <td>False</td>\n",
       "      <td>False</td>\n",
       "      <td>False</td>\n",
       "    </tr>\n",
       "    <tr>\n",
       "      <th>...</th>\n",
       "      <td>...</td>\n",
       "      <td>...</td>\n",
       "      <td>...</td>\n",
       "      <td>...</td>\n",
       "      <td>...</td>\n",
       "    </tr>\n",
       "    <tr>\n",
       "      <th>195</th>\n",
       "      <td>False</td>\n",
       "      <td>False</td>\n",
       "      <td>False</td>\n",
       "      <td>False</td>\n",
       "      <td>False</td>\n",
       "    </tr>\n",
       "    <tr>\n",
       "      <th>196</th>\n",
       "      <td>False</td>\n",
       "      <td>False</td>\n",
       "      <td>False</td>\n",
       "      <td>False</td>\n",
       "      <td>False</td>\n",
       "    </tr>\n",
       "    <tr>\n",
       "      <th>197</th>\n",
       "      <td>False</td>\n",
       "      <td>False</td>\n",
       "      <td>False</td>\n",
       "      <td>False</td>\n",
       "      <td>False</td>\n",
       "    </tr>\n",
       "    <tr>\n",
       "      <th>198</th>\n",
       "      <td>False</td>\n",
       "      <td>False</td>\n",
       "      <td>False</td>\n",
       "      <td>False</td>\n",
       "      <td>False</td>\n",
       "    </tr>\n",
       "    <tr>\n",
       "      <th>199</th>\n",
       "      <td>False</td>\n",
       "      <td>False</td>\n",
       "      <td>False</td>\n",
       "      <td>False</td>\n",
       "      <td>False</td>\n",
       "    </tr>\n",
       "  </tbody>\n",
       "</table>\n",
       "<p>200 rows × 5 columns</p>\n",
       "</div>"
      ],
      "text/plain": [
       "     CustomerID  Gender    Age  Annual Income (k$)  Spending Score (1-100)\n",
       "0         False   False  False               False                   False\n",
       "1         False   False  False               False                   False\n",
       "2         False   False  False               False                   False\n",
       "3         False   False  False               False                   False\n",
       "4         False   False  False               False                   False\n",
       "..          ...     ...    ...                 ...                     ...\n",
       "195       False   False  False               False                   False\n",
       "196       False   False  False               False                   False\n",
       "197       False   False  False               False                   False\n",
       "198       False   False  False               False                   False\n",
       "199       False   False  False               False                   False\n",
       "\n",
       "[200 rows x 5 columns]"
      ]
     },
     "execution_count": 17,
     "metadata": {},
     "output_type": "execute_result"
    }
   ],
   "source": [
    "df.isna()"
   ]
  },
  {
   "cell_type": "code",
   "execution_count": 18,
   "id": "2261134c",
   "metadata": {},
   "outputs": [
    {
     "data": {
      "text/plain": [
       "CustomerID                False\n",
       "Gender                    False\n",
       "Age                       False\n",
       "Annual Income (k$)        False\n",
       "Spending Score (1-100)    False\n",
       "dtype: bool"
      ]
     },
     "execution_count": 18,
     "metadata": {},
     "output_type": "execute_result"
    }
   ],
   "source": [
    "df.isnull().any()"
   ]
  },
  {
   "cell_type": "code",
   "execution_count": 19,
   "id": "16742107",
   "metadata": {},
   "outputs": [
    {
     "data": {
      "text/plain": [
       "CustomerID                0\n",
       "Gender                    0\n",
       "Age                       0\n",
       "Annual Income (k$)        0\n",
       "Spending Score (1-100)    0\n",
       "dtype: int64"
      ]
     },
     "execution_count": 19,
     "metadata": {},
     "output_type": "execute_result"
    }
   ],
   "source": [
    "df.isnull().sum()"
   ]
  },
  {
   "cell_type": "markdown",
   "id": "a154a372",
   "metadata": {},
   "source": [
    "## Find the outliers and replace them outliers"
   ]
  },
  {
   "cell_type": "code",
   "execution_count": 21,
   "id": "1e102dd0",
   "metadata": {},
   "outputs": [
    {
     "data": {
      "image/png": "[encoded data removed]",
      "text/plain": [
       "<Figure size 432x288 with 1 Axes>"
      ]
     },
     "metadata": {
      "needs_background": "light"
     },
     "output_type": "display_data"
    }
   ],
   "source": [
    "plt.boxplot(df['Annual Income (k$)'])\n",
    "plt.show()\n"
   ]
  },
  {
   "cell_type": "markdown",
   "id": "2585d61f",
   "metadata": {},
   "source": [
    "## Check for Categorical columns and perform encoding"
   ]
  },
  {
   "cell_type": "code",
   "execution_count": 22,
   "id": "84d7a020",
   "metadata": {},
   "outputs": [
    {
     "data": {
      "text/html": [
       "<div>\n",
       "<style scoped>\n",
       "    .dataframe tbody tr th:only-of-type {\n",
       "        vertical-align: middle;\n",
       "    }\n",
       "\n",
       "    .dataframe tbody tr th {\n",
       "        vertical-align: top;\n",
       "    }\n",
       "\n",
       "    .dataframe thead th {\n",
       "        text-align: right;\n",
       "    }\n",
       "</style>\n",
       "<table border=\"1\" class=\"dataframe\">\n",
       "  <thead>\n",
       "    <tr style=\"text-align: right;\">\n",
       "      <th></th>\n",
       "      <th>CustomerID</th>\n",
       "      <th>Gender</th>\n",
       "      <th>Age</th>\n",
       "      <th>Annual Income (k$)</th>\n",
       "      <th>Spending Score (1-100)</th>\n",
       "    </tr>\n",
       "  </thead>\n",
       "  <tbody>\n",
       "    <tr>\n",
       "      <th>0</th>\n",
       "      <td>1</td>\n",
       "      <td>Male</td>\n",
       "      <td>19</td>\n",
       "      <td>15</td>\n",
       "      <td>39</td>\n",
       "    </tr>\n",
       "    <tr>\n",
       "      <th>1</th>\n",
       "      <td>2</td>\n",
       "      <td>Male</td>\n",
       "      <td>21</td>\n",
       "      <td>15</td>\n",
       "      <td>81</td>\n",
       "    </tr>\n",
       "    <tr>\n",
       "      <th>2</th>\n",
       "      <td>3</td>\n",
       "      <td>Female</td>\n",
       "      <td>20</td>\n",
       "      <td>16</td>\n",
       "      <td>6</td>\n",
       "    </tr>\n",
       "    <tr>\n",
       "      <th>3</th>\n",
       "      <td>4</td>\n",
       "      <td>Female</td>\n",
       "      <td>23</td>\n",
       "      <td>16</td>\n",
       "      <td>77</td>\n",
       "    </tr>\n",
       "    <tr>\n",
       "      <th>4</th>\n",
       "      <td>5</td>\n",
       "      <td>Female</td>\n",
       "      <td>31</td>\n",
       "      <td>17</td>\n",
       "      <td>40</td>\n",
       "    </tr>\n",
       "  </tbody>\n",
       "</table>\n",
       "</div>"
      ],
      "text/plain": [
       "   CustomerID  Gender  Age  Annual Income (k$)  Spending Score (1-100)\n",
       "0           1    Male   19                  15                      39\n",
       "1           2    Male   21                  15                      81\n",
       "2           3  Female   20                  16                       6\n",
       "3           4  Female   23                  16                      77\n",
       "4           5  Female   31                  17                      40"
      ]
     },
     "execution_count": 22,
     "metadata": {},
     "output_type": "execute_result"
    }
   ],
   "source": [
    "df.head()"
   ]
  },
  {
   "cell_type": "code",
   "execution_count": 23,
   "id": "93420bda",
   "metadata": {},
   "outputs": [
    {
     "name": "stdout",
     "output_type": "stream",
     "text": [
      "Number of numerical variables:  4\n",
      "Number of categorical variables:  1\n"
     ]
    }
   ],
   "source": [
    "numeric_data = df.select_dtypes(include=[np.number]) \n",
    "categorical_data = df.select_dtypes(exclude=[np.number]) \n",
    "print(\"Number of numerical variables: \", numeric_data.shape[1]) \n",
    "print(\"Number of categorical variables: \", categorical_data.shape[1])"
   ]
  },
  {
   "cell_type": "code",
   "execution_count": 24,
   "id": "854097e8",
   "metadata": {},
   "outputs": [
    {
     "name": "stdout",
     "output_type": "stream",
     "text": [
      "Number of categorical variables:  1\n"
     ]
    },
    {
     "data": {
      "text/plain": [
       "['Gender']"
      ]
     },
     "execution_count": 24,
     "metadata": {},
     "output_type": "execute_result"
    }
   ],
   "source": [
    "print(\"Number of categorical variables: \", categorical_data.shape[1]) \n",
    "Categorical_variables = list(categorical_data.columns)\n",
    "Categorical_variables"
   ]
  },
  {
   "cell_type": "code",
   "execution_count": 25,
   "id": "16a96b8d",
   "metadata": {},
   "outputs": [
    {
     "data": {
      "text/plain": [
       "Female    112\n",
       "Male       88\n",
       "Name: Gender, dtype: int64"
      ]
     },
     "execution_count": 25,
     "metadata": {},
     "output_type": "execute_result"
    }
   ],
   "source": [
    "df['Gender'].value_counts()"
   ]
  },
  {
   "cell_type": "code",
   "execution_count": 26,
   "id": "c684fb66",
   "metadata": {},
   "outputs": [],
   "source": [
    "from sklearn.preprocessing import LabelEncoder\n",
    "le = LabelEncoder()\n",
    "label = le.fit_transform(df['Gender'])\n",
    "df[\"Gender\"] = label"
   ]
  },
  {
   "cell_type": "code",
   "execution_count": 27,
   "id": "b1d52bf0",
   "metadata": {},
   "outputs": [
    {
     "data": {
      "text/plain": [
       "0    112\n",
       "1     88\n",
       "Name: Gender, dtype: int64"
      ]
     },
     "execution_count": 27,
     "metadata": {},
     "output_type": "execute_result"
    }
   ],
   "source": [
    "df['Gender'].value_counts()"
   ]
  },
  {
   "cell_type": "markdown",
   "id": "22f75b52",
   "metadata": {},
   "source": [
    "## Scaling the data"
   ]
  },
  {
   "cell_type": "code",
   "execution_count": 28,
   "id": "03c208e4",
   "metadata": {},
   "outputs": [],
   "source": [
    "X = df.drop(\"Age\",axis=1)\n",
    "Y = df['Age']"
   ]
  },
  {
   "cell_type": "code",
   "execution_count": 29,
   "id": "cb53e5ec",
   "metadata": {},
   "outputs": [
    {
     "name": "stdout",
     "output_type": "stream",
     "text": [
      "[[-1.7234121   1.12815215 -1.73899919 -0.43480148]\n",
      " [-1.70609137  1.12815215 -1.73899919  1.19570407]\n",
      " [-1.68877065 -0.88640526 -1.70082976 -1.71591298]\n",
      " [-1.67144992 -0.88640526 -1.70082976  1.04041783]\n",
      " [-1.6541292  -0.88640526 -1.66266033 -0.39597992]\n",
      " [-1.63680847 -0.88640526 -1.66266033  1.00159627]\n",
      " [-1.61948775 -0.88640526 -1.62449091 -1.71591298]\n",
      " [-1.60216702 -0.88640526 -1.62449091  1.70038436]\n",
      " [-1.5848463   1.12815215 -1.58632148 -1.83237767]\n",
      " [-1.56752558 -0.88640526 -1.58632148  0.84631002]\n",
      " [-1.55020485  1.12815215 -1.58632148 -1.4053405 ]\n",
      " [-1.53288413 -0.88640526 -1.58632148  1.89449216]\n",
      " [-1.5155634  -0.88640526 -1.54815205 -1.36651894]\n",
      " [-1.49824268 -0.88640526 -1.54815205  1.04041783]\n",
      " [-1.48092195  1.12815215 -1.54815205 -1.44416206]\n",
      " [-1.46360123  1.12815215 -1.54815205  1.11806095]\n",
      " [-1.4462805  -0.88640526 -1.50998262 -0.59008772]\n",
      " [-1.42895978  1.12815215 -1.50998262  0.61338066]\n",
      " [-1.41163905  1.12815215 -1.43364376 -0.82301709]\n",
      " [-1.39431833 -0.88640526 -1.43364376  1.8556706 ]\n",
      " [-1.3769976   1.12815215 -1.39547433 -0.59008772]\n",
      " [-1.35967688  1.12815215 -1.39547433  0.88513158]\n",
      " [-1.34235616 -0.88640526 -1.3573049  -1.75473454]\n",
      " [-1.32503543  1.12815215 -1.3573049   0.88513158]\n",
      " [-1.30771471 -0.88640526 -1.24279661 -1.4053405 ]\n",
      " [-1.29039398  1.12815215 -1.24279661  1.23452563]\n",
      " [-1.27307326 -0.88640526 -1.24279661 -0.7065524 ]\n",
      " [-1.25575253  1.12815215 -1.24279661  0.41927286]\n",
      " [-1.23843181 -0.88640526 -1.20462718 -0.74537397]\n",
      " [-1.22111108 -0.88640526 -1.20462718  1.42863343]\n",
      " [-1.20379036  1.12815215 -1.16645776 -1.7935561 ]\n",
      " [-1.18646963 -0.88640526 -1.16645776  0.88513158]\n",
      " [-1.16914891  1.12815215 -1.05194947 -1.7935561 ]\n",
      " [-1.15182818  1.12815215 -1.05194947  1.62274124]\n",
      " [-1.13450746 -0.88640526 -1.05194947 -1.4053405 ]\n",
      " [-1.11718674 -0.88640526 -1.05194947  1.19570407]\n",
      " [-1.09986601 -0.88640526 -1.01378004 -1.28887582]\n",
      " [-1.08254529 -0.88640526 -1.01378004  0.88513158]\n",
      " [-1.06522456 -0.88640526 -0.89927175 -0.93948177]\n",
      " [-1.04790384 -0.88640526 -0.89927175  0.96277471]\n",
      " [-1.03058311 -0.88640526 -0.86110232 -0.59008772]\n",
      " [-1.01326239  1.12815215 -0.86110232  1.62274124]\n",
      " [-0.99594166  1.12815215 -0.82293289 -0.55126616]\n",
      " [-0.97862094 -0.88640526 -0.82293289  0.41927286]\n",
      " [-0.96130021 -0.88640526 -0.82293289 -0.86183865]\n",
      " [-0.94397949 -0.88640526 -0.82293289  0.5745591 ]\n",
      " [-0.92665877 -0.88640526 -0.78476346  0.18634349]\n",
      " [-0.90933804 -0.88640526 -0.78476346 -0.12422899]\n",
      " [-0.89201732 -0.88640526 -0.78476346 -0.3183368 ]\n",
      " [-0.87469659 -0.88640526 -0.78476346 -0.3183368 ]\n",
      " [-0.85737587 -0.88640526 -0.70842461  0.06987881]\n",
      " [-0.84005514  1.12815215 -0.70842461  0.38045129]\n",
      " [-0.82273442 -0.88640526 -0.67025518  0.14752193]\n",
      " [-0.80541369  1.12815215 -0.67025518  0.38045129]\n",
      " [-0.78809297 -0.88640526 -0.67025518 -0.20187212]\n",
      " [-0.77077224  1.12815215 -0.67025518 -0.35715836]\n",
      " [-0.75345152 -0.88640526 -0.63208575 -0.00776431]\n",
      " [-0.73613079  1.12815215 -0.63208575 -0.16305055]\n",
      " [-0.71881007 -0.88640526 -0.55574689  0.03105725]\n",
      " [-0.70148935  1.12815215 -0.55574689 -0.16305055]\n",
      " [-0.68416862  1.12815215 -0.55574689  0.22516505]\n",
      " [-0.6668479   1.12815215 -0.55574689  0.18634349]\n",
      " [-0.64952717 -0.88640526 -0.51757746  0.06987881]\n",
      " [-0.63220645 -0.88640526 -0.51757746  0.34162973]\n",
      " [-0.61488572  1.12815215 -0.47940803  0.03105725]\n",
      " [-0.597565    1.12815215 -0.47940803  0.34162973]\n",
      " [-0.58024427 -0.88640526 -0.47940803 -0.00776431]\n",
      " [-0.56292355 -0.88640526 -0.47940803 -0.08540743]\n",
      " [-0.54560282  1.12815215 -0.47940803  0.34162973]\n",
      " [-0.5282821  -0.88640526 -0.47940803 -0.12422899]\n",
      " [-0.51096138  1.12815215 -0.4412386   0.18634349]\n",
      " [-0.49364065 -0.88640526 -0.4412386  -0.3183368 ]\n",
      " [-0.47631993 -0.88640526 -0.40306917 -0.04658587]\n",
      " [-0.4589992  -0.88640526 -0.40306917  0.22516505]\n",
      " [-0.44167848  1.12815215 -0.25039146 -0.12422899]\n",
      " [-0.42435775  1.12815215 -0.25039146  0.14752193]\n",
      " [-0.40703703 -0.88640526 -0.25039146  0.10870037]\n",
      " [-0.3897163   1.12815215 -0.25039146 -0.08540743]\n",
      " [-0.37239558 -0.88640526 -0.25039146  0.06987881]\n",
      " [-0.35507485 -0.88640526 -0.25039146 -0.3183368 ]\n",
      " [-0.33775413  1.12815215 -0.25039146  0.03105725]\n",
      " [-0.3204334   1.12815215 -0.25039146  0.18634349]\n",
      " [-0.30311268  1.12815215 -0.25039146 -0.35715836]\n",
      " [-0.28579196 -0.88640526 -0.25039146 -0.24069368]\n",
      " [-0.26847123 -0.88640526 -0.25039146  0.26398661]\n",
      " [-0.25115051  1.12815215 -0.25039146 -0.16305055]\n",
      " [-0.23382978 -0.88640526 -0.13588317  0.30280817]\n",
      " [-0.21650906 -0.88640526 -0.13588317  0.18634349]\n",
      " [-0.19918833 -0.88640526 -0.09771374  0.38045129]\n",
      " [-0.18186761 -0.88640526 -0.09771374 -0.16305055]\n",
      " [-0.16454688 -0.88640526 -0.05954431  0.18634349]\n",
      " [-0.14722616  1.12815215 -0.05954431 -0.35715836]\n",
      " [-0.12990543  1.12815215 -0.02137488 -0.04658587]\n",
      " [-0.11258471 -0.88640526 -0.02137488 -0.39597992]\n",
      " [-0.09526399 -0.88640526 -0.02137488 -0.3183368 ]\n",
      " [-0.07794326  1.12815215 -0.02137488  0.06987881]\n",
      " [-0.06062254 -0.88640526 -0.02137488 -0.12422899]\n",
      " [-0.04330181 -0.88640526 -0.02137488 -0.00776431]\n",
      " [-0.02598109  1.12815215  0.01679455 -0.3183368 ]\n",
      " [-0.00866036  1.12815215  0.01679455 -0.04658587]\n",
      " [ 0.00866036 -0.88640526  0.05496398 -0.35715836]\n",
      " [ 0.02598109 -0.88640526  0.05496398 -0.08540743]\n",
      " [ 0.04330181  1.12815215  0.05496398  0.34162973]\n",
      " [ 0.06062254  1.12815215  0.05496398  0.18634349]\n",
      " [ 0.07794326  1.12815215  0.05496398  0.22516505]\n",
      " [ 0.09526399 -0.88640526  0.05496398 -0.3183368 ]\n",
      " [ 0.11258471 -0.88640526  0.09313341 -0.00776431]\n",
      " [ 0.12990543  1.12815215  0.09313341 -0.16305055]\n",
      " [ 0.14722616  1.12815215  0.09313341 -0.27951524]\n",
      " [ 0.16454688  1.12815215  0.09313341 -0.08540743]\n",
      " [ 0.18186761  1.12815215  0.09313341  0.06987881]\n",
      " [ 0.19918833 -0.88640526  0.09313341  0.14752193]\n",
      " [ 0.21650906 -0.88640526  0.13130284 -0.3183368 ]\n",
      " [ 0.23382978  1.12815215  0.13130284 -0.16305055]\n",
      " [ 0.25115051 -0.88640526  0.16947227 -0.08540743]\n",
      " [ 0.26847123 -0.88640526  0.16947227 -0.00776431]\n",
      " [ 0.28579196 -0.88640526  0.16947227 -0.27951524]\n",
      " [ 0.30311268 -0.88640526  0.16947227  0.34162973]\n",
      " [ 0.3204334  -0.88640526  0.24581112 -0.27951524]\n",
      " [ 0.33775413 -0.88640526  0.24581112  0.26398661]\n",
      " [ 0.35507485  1.12815215  0.24581112  0.22516505]\n",
      " [ 0.37239558 -0.88640526  0.24581112 -0.39597992]\n",
      " [ 0.3897163  -0.88640526  0.32214998  0.30280817]\n",
      " [ 0.40703703  1.12815215  0.32214998  1.58391968]\n",
      " [ 0.42435775 -0.88640526  0.36031941 -0.82301709]\n",
      " [ 0.44167848 -0.88640526  0.36031941  1.04041783]\n",
      " [ 0.4589992   1.12815215  0.39848884 -0.59008772]\n",
      " [ 0.47631993  1.12815215  0.39848884  1.73920592]\n",
      " [ 0.49364065  1.12815215  0.39848884 -1.52180518]\n",
      " [ 0.51096138  1.12815215  0.39848884  0.96277471]\n",
      " [ 0.5282821   1.12815215  0.39848884 -1.5994483 ]\n",
      " [ 0.54560282  1.12815215  0.39848884  0.96277471]\n",
      " [ 0.56292355 -0.88640526  0.43665827 -0.62890928]\n",
      " [ 0.58024427 -0.88640526  0.43665827  0.80748846]\n",
      " [ 0.597565    1.12815215  0.4748277  -1.75473454]\n",
      " [ 0.61488572 -0.88640526  0.4748277   1.46745499]\n",
      " [ 0.63220645 -0.88640526  0.4748277  -1.67709142]\n",
      " [ 0.64952717  1.12815215  0.4748277   0.88513158]\n",
      " [ 0.6668479   1.12815215  0.51299713 -1.56062674]\n",
      " [ 0.68416862 -0.88640526  0.51299713  0.84631002]\n",
      " [ 0.70148935 -0.88640526  0.55116656 -1.75473454]\n",
      " [ 0.71881007  1.12815215  0.55116656  1.6615628 ]\n",
      " [ 0.73613079 -0.88640526  0.58933599 -0.39597992]\n",
      " [ 0.75345152 -0.88640526  0.58933599  1.42863343]\n",
      " [ 0.77077224  1.12815215  0.62750542 -1.48298362]\n",
      " [ 0.78809297  1.12815215  0.62750542  1.81684904]\n",
      " [ 0.80541369  1.12815215  0.62750542 -0.55126616]\n",
      " [ 0.82273442 -0.88640526  0.62750542  0.92395314]\n",
      " [ 0.84005514 -0.88640526  0.66567484 -1.09476801]\n",
      " [ 0.85737587  1.12815215  0.66567484  1.54509812]\n",
      " [ 0.87469659  1.12815215  0.66567484 -1.28887582]\n",
      " [ 0.89201732  1.12815215  0.66567484  1.46745499]\n",
      " [ 0.90933804 -0.88640526  0.66567484 -1.17241113]\n",
      " [ 0.92665877 -0.88640526  0.66567484  1.00159627]\n",
      " [ 0.94397949 -0.88640526  0.66567484 -1.32769738]\n",
      " [ 0.96130021 -0.88640526  0.66567484  1.50627656]\n",
      " [ 0.97862094  1.12815215  0.66567484 -1.91002079]\n",
      " [ 0.99594166 -0.88640526  0.66567484  1.07923939]\n",
      " [ 1.01326239  1.12815215  0.66567484 -1.91002079]\n",
      " [ 1.03058311 -0.88640526  0.66567484  0.88513158]\n",
      " [ 1.04790384 -0.88640526  0.70384427 -0.59008772]\n",
      " [ 1.06522456 -0.88640526  0.70384427  1.27334719]\n",
      " [ 1.08254529  1.12815215  0.78018313 -1.75473454]\n",
      " [ 1.09986601 -0.88640526  0.78018313  1.6615628 ]\n",
      " [ 1.11718674  1.12815215  0.93286085 -0.93948177]\n",
      " [ 1.13450746 -0.88640526  0.93286085  0.96277471]\n",
      " [ 1.15182818  1.12815215  0.97103028 -1.17241113]\n",
      " [ 1.16914891 -0.88640526  0.97103028  1.73920592]\n",
      " [ 1.18646963 -0.88640526  1.00919971 -0.90066021]\n",
      " [ 1.20379036  1.12815215  1.00919971  0.49691598]\n",
      " [ 1.22111108  1.12815215  1.00919971 -1.44416206]\n",
      " [ 1.23843181  1.12815215  1.00919971  0.96277471]\n",
      " [ 1.25575253  1.12815215  1.00919971 -1.56062674]\n",
      " [ 1.27307326  1.12815215  1.00919971  1.62274124]\n",
      " [ 1.29039398 -0.88640526  1.04736914 -1.44416206]\n",
      " [ 1.30771471 -0.88640526  1.04736914  1.38981187]\n",
      " [ 1.32503543  1.12815215  1.04736914 -1.36651894]\n",
      " [ 1.34235616  1.12815215  1.04736914  0.72984534]\n",
      " [ 1.35967688  1.12815215  1.23821628 -1.4053405 ]\n",
      " [ 1.3769976   1.12815215  1.23821628  1.54509812]\n",
      " [ 1.39431833 -0.88640526  1.390894   -0.7065524 ]\n",
      " [ 1.41163905 -0.88640526  1.390894    1.38981187]\n",
      " [ 1.42895978  1.12815215  1.42906343 -1.36651894]\n",
      " [ 1.4462805  -0.88640526  1.42906343  1.46745499]\n",
      " [ 1.46360123 -0.88640526  1.46723286 -0.43480148]\n",
      " [ 1.48092195  1.12815215  1.46723286  1.81684904]\n",
      " [ 1.49824268 -0.88640526  1.54357172 -1.01712489]\n",
      " [ 1.5155634   1.12815215  1.54357172  0.69102378]\n",
      " [ 1.53288413 -0.88640526  1.61991057 -1.28887582]\n",
      " [ 1.55020485 -0.88640526  1.61991057  1.35099031]\n",
      " [ 1.56752558 -0.88640526  1.61991057 -1.05594645]\n",
      " [ 1.5848463  -0.88640526  1.61991057  0.72984534]\n",
      " [ 1.60216702  1.12815215  2.00160487 -1.63826986]\n",
      " [ 1.61948775 -0.88640526  2.00160487  1.58391968]\n",
      " [ 1.63680847 -0.88640526  2.26879087 -1.32769738]\n",
      " [ 1.6541292  -0.88640526  2.26879087  1.11806095]\n",
      " [ 1.67144992 -0.88640526  2.49780745 -0.86183865]\n",
      " [ 1.68877065  1.12815215  2.49780745  0.92395314]\n",
      " [ 1.70609137  1.12815215  2.91767117 -1.25005425]\n",
      " [ 1.7234121   1.12815215  2.91767117  1.27334719]]\n"
     ]
    }
   ],
   "source": [
    "from sklearn.preprocessing import StandardScaler\n",
    "object= StandardScaler()\n",
    "scale = object.fit_transform(X) \n",
    "print(scale)"
   ]
  },
  {
   "cell_type": "code",
   "execution_count": 30,
   "id": "4af0f95c",
   "metadata": {},
   "outputs": [
    {
     "data": {
      "text/html": [
       "<div>\n",
       "<style scoped>\n",
       "    .dataframe tbody tr th:only-of-type {\n",
       "        vertical-align: middle;\n",
       "    }\n",
       "\n",
       "    .dataframe tbody tr th {\n",
       "        vertical-align: top;\n",
       "    }\n",
       "\n",
       "    .dataframe thead th {\n",
       "        text-align: right;\n",
       "    }\n",
       "</style>\n",
       "<table border=\"1\" class=\"dataframe\">\n",
       "  <thead>\n",
       "    <tr style=\"text-align: right;\">\n",
       "      <th></th>\n",
       "      <th>CustomerID</th>\n",
       "      <th>Gender</th>\n",
       "      <th>Annual Income (k$)</th>\n",
       "      <th>Spending Score (1-100)</th>\n",
       "    </tr>\n",
       "  </thead>\n",
       "  <tbody>\n",
       "    <tr>\n",
       "      <th>0</th>\n",
       "      <td>-1.723412</td>\n",
       "      <td>1.128152</td>\n",
       "      <td>-1.738999</td>\n",
       "      <td>-0.434801</td>\n",
       "    </tr>\n",
       "    <tr>\n",
       "      <th>1</th>\n",
       "      <td>-1.706091</td>\n",
       "      <td>1.128152</td>\n",
       "      <td>-1.738999</td>\n",
       "      <td>1.195704</td>\n",
       "    </tr>\n",
       "    <tr>\n",
       "      <th>2</th>\n",
       "      <td>-1.688771</td>\n",
       "      <td>-0.886405</td>\n",
       "      <td>-1.700830</td>\n",
       "      <td>-1.715913</td>\n",
       "    </tr>\n",
       "    <tr>\n",
       "      <th>3</th>\n",
       "      <td>-1.671450</td>\n",
       "      <td>-0.886405</td>\n",
       "      <td>-1.700830</td>\n",
       "      <td>1.040418</td>\n",
       "    </tr>\n",
       "    <tr>\n",
       "      <th>4</th>\n",
       "      <td>-1.654129</td>\n",
       "      <td>-0.886405</td>\n",
       "      <td>-1.662660</td>\n",
       "      <td>-0.395980</td>\n",
       "    </tr>\n",
       "    <tr>\n",
       "      <th>...</th>\n",
       "      <td>...</td>\n",
       "      <td>...</td>\n",
       "      <td>...</td>\n",
       "      <td>...</td>\n",
       "    </tr>\n",
       "    <tr>\n",
       "      <th>195</th>\n",
       "      <td>1.654129</td>\n",
       "      <td>-0.886405</td>\n",
       "      <td>2.268791</td>\n",
       "      <td>1.118061</td>\n",
       "    </tr>\n",
       "    <tr>\n",
       "      <th>196</th>\n",
       "      <td>1.671450</td>\n",
       "      <td>-0.886405</td>\n",
       "      <td>2.497807</td>\n",
       "      <td>-0.861839</td>\n",
       "    </tr>\n",
       "    <tr>\n",
       "      <th>197</th>\n",
       "      <td>1.688771</td>\n",
       "      <td>1.128152</td>\n",
       "      <td>2.497807</td>\n",
       "      <td>0.923953</td>\n",
       "    </tr>\n",
       "    <tr>\n",
       "      <th>198</th>\n",
       "      <td>1.706091</td>\n",
       "      <td>1.128152</td>\n",
       "      <td>2.917671</td>\n",
       "      <td>-1.250054</td>\n",
       "    </tr>\n",
       "    <tr>\n",
       "      <th>199</th>\n",
       "      <td>1.723412</td>\n",
       "      <td>1.128152</td>\n",
       "      <td>2.917671</td>\n",
       "      <td>1.273347</td>\n",
       "    </tr>\n",
       "  </tbody>\n",
       "</table>\n",
       "<p>200 rows × 4 columns</p>\n",
       "</div>"
      ],
      "text/plain": [
       "     CustomerID    Gender  Annual Income (k$)  Spending Score (1-100)\n",
       "0     -1.723412  1.128152           -1.738999               -0.434801\n",
       "1     -1.706091  1.128152           -1.738999                1.195704\n",
       "2     -1.688771 -0.886405           -1.700830               -1.715913\n",
       "3     -1.671450 -0.886405           -1.700830                1.040418\n",
       "4     -1.654129 -0.886405           -1.662660               -0.395980\n",
       "..          ...       ...                 ...                     ...\n",
       "195    1.654129 -0.886405            2.268791                1.118061\n",
       "196    1.671450 -0.886405            2.497807               -0.861839\n",
       "197    1.688771  1.128152            2.497807                0.923953\n",
       "198    1.706091  1.128152            2.917671               -1.250054\n",
       "199    1.723412  1.128152            2.917671                1.273347\n",
       "\n",
       "[200 rows x 4 columns]"
      ]
     },
     "execution_count": 30,
     "metadata": {},
     "output_type": "execute_result"
    }
   ],
   "source": [
    "X_scaled  = pd.DataFrame(scale, columns = X.columns)\n",
    "X_scaled"
   ]
  },
  {
   "cell_type": "code",
   "execution_count": 31,
   "id": "958674ef",
   "metadata": {},
   "outputs": [],
   "source": [
    "from sklearn.model_selection import train_test_split\n",
    "X_train, X_test, Y_train, Y_test = train_test_split(X_scaled, Y, test_size=0.20, random_state=0)"
   ]
  },
  {
   "cell_type": "code",
   "execution_count": 32,
   "id": "0e6f76cb",
   "metadata": {},
   "outputs": [
    {
     "data": {
      "text/plain": [
       "(160, 4)"
      ]
     },
     "execution_count": 32,
     "metadata": {},
     "output_type": "execute_result"
    }
   ],
   "source": [
    "X_train.shape"
   ]
  },
  {
   "cell_type": "code",
   "execution_count": 33,
   "id": "d076cd87",
   "metadata": {},
   "outputs": [
    {
     "data": {
      "text/plain": [
       "(40, 4)"
      ]
     },
     "execution_count": 33,
     "metadata": {},
     "output_type": "execute_result"
    }
   ],
   "source": [
    "X_test.shape"
   ]
  },
  {
   "cell_type": "code",
   "execution_count": 34,
   "id": "6599675c",
   "metadata": {},
   "outputs": [
    {
     "data": {
      "text/plain": [
       "(160,)"
      ]
     },
     "execution_count": 34,
     "metadata": {},
     "output_type": "execute_result"
    }
   ],
   "source": [
    "Y_train.shape"
   ]
  },
  {
   "cell_type": "code",
   "execution_count": 35,
   "id": "41fd9f00",
   "metadata": {},
   "outputs": [
    {
     "data": {
      "text/plain": [
       "(40,)"
      ]
     },
     "execution_count": 35,
     "metadata": {},
     "output_type": "execute_result"
    }
   ],
   "source": [
    "Y_test.shape"
   ]
  },
  {
   "cell_type": "markdown",
   "id": "d670abf3",
   "metadata": {},
   "source": [
    "## Clustering Algorithm"
   ]
  },
  {
   "cell_type": "code",
   "execution_count": 36,
   "id": "a2784282",
   "metadata": {},
   "outputs": [],
   "source": [
    "x = df.iloc[:, [3, 4]].values "
   ]
  },
  {
   "cell_type": "code",
   "execution_count": 37,
   "id": "ec08664e",
   "metadata": {},
   "outputs": [
    {
     "data": {
      "image/png": "[encoded data removed]",
      "text/plain": [
       "<Figure size 432x288 with 1 Axes>"
      ]
     },
     "metadata": {
      "needs_background": "light"
     },
     "output_type": "display_data"
    }
   ],
   "source": [
    "from sklearn.cluster import KMeans  \n",
    "wcss_list= []   \n",
    "for i in range(1, 11):  \n",
    "    kmeans = KMeans(n_clusters=i, init='k-means++', random_state= 42)  \n",
    "    kmeans.fit(x)  \n",
    "    wcss_list.append(kmeans.inertia_)  \n",
    "plt.plot(range(1, 11), wcss_list)  \n",
    "plt.title('The Elobw Method Graph')  \n",
    "plt.xlabel('Number of clusters(k)')  \n",
    "plt.ylabel('wcss_list')  \n",
    "plt.show()  "
   ]
  },
  {
   "cell_type": "code",
   "execution_count": 38,
   "id": "ea34acc5",
   "metadata": {},
   "outputs": [],
   "source": [
    "kmeans = KMeans(n_clusters=5, init='k-means++', random_state= 42)  \n",
    "y_predict= kmeans.fit_predict(x) "
   ]
  },
  {
   "cell_type": "code",
   "execution_count": 39,
   "id": "f21e0aee",
   "metadata": {},
   "outputs": [
    {
     "data": {
      "image/png": "[encoded data removed]",
      "text/plain": [
       "<Figure size 432x288 with 1 Axes>"
      ]
     },
     "metadata": {
      "needs_background": "light"
     },
     "output_type": "display_data"
    }
   ],
   "source": [
    "plt.scatter(x[y_predict == 0, 0], x[y_predict == 0, 1], s = 100, c = 'blue', label = 'Cluster 1') #for first cluster  \n",
    "plt.scatter(x[y_predict == 1, 0], x[y_predict == 1, 1], s = 100, c = 'green', label = 'Cluster 2') #for second cluster  \n",
    "plt.scatter(x[y_predict== 2, 0], x[y_predict == 2, 1], s = 100, c = 'red', label = 'Cluster 3') #for third cluster  \n",
    "plt.scatter(x[y_predict == 3, 0], x[y_predict == 3, 1], s = 100, c = 'cyan', label = 'Cluster 4') #for fourth cluster  \n",
    "plt.scatter(x[y_predict == 4, 0], x[y_predict == 4, 1], s = 100, c = 'magenta', label = 'Cluster 5') #for fifth cluster  \n",
    "plt.scatter(kmeans.cluster_centers_[:, 0], kmeans.cluster_centers_[:, 1], s = 300, c = 'yellow', label = 'Centroid')   \n",
    "plt.title('Clusters of customers')  \n",
    "plt.xlabel('Annual Income (k$)')  \n",
    "plt.ylabel('Spending Score (1-100)')  \n",
    "plt.legend()  \n",
    "plt.show()  "
   ]
  },
  {
   "cell_type": "code",
   "execution_count": null,
   "id": "0c30e6cc",
   "metadata": {},
   "outputs": [],
   "source": []
  }
 ],
 "metadata": {
  "kernelspec": {
   "display_name": "Python 3 (ipykernel)",
   "language": "python",
   "name": "python3"
  },
  "language_info": {
   "codemirror_mode": {
    "name": "ipython",
    "version": 3
   },
   "file_extension": ".py",
   "mimetype": "text/x-python",
   "name": "python",
   "nbconvert_exporter": "python",
   "pygments_lexer": "ipython3",
   "version": "3.9.12"
  }
 },
 "nbformat": 4,
 "nbformat_minor": 5
}
